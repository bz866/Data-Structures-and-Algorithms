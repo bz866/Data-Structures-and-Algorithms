{
 "cells": [
  {
   "cell_type": "code",
   "execution_count": 1,
   "metadata": {},
   "outputs": [],
   "source": [
    "class Set:\n",
    "\t# Creates an empty set instance\n",
    "\tdef __init__(self):\n",
    "\t\tself._theElements = list()\n",
    "\n",
    "\t# Returns the number of items in the set\n",
    "\tdef __len__(self):\n",
    "\t\treturn len(self._theElements)\n",
    "\n",
    "\t# Determines if an element is in the set\n",
    "\tdef __contains__(self, element):\n",
    "\t\treturn element in self._theElements\n",
    "    \n",
    "    # Adds a new unique element to the set\n",
    "\tdef add(self, element):\n",
    "\t\tself._theElements.append(element)\n",
    "\n",
    "\t# Removes an element from the set\n",
    "\tdef remove(self, element):\n",
    "\t\tassert element in self, \"The element must be in the set.\"\n",
    "\t\tself._theElements.remove(item)\n",
    "\n",
    "\t# Determines if this set is a subset of the other set\n",
    "\tdef isSubsetOf(self, setB):\n",
    "\t\tfor element in self:\n",
    "\t\t\tif element not in setB:\n",
    "\t\t\t\treturn False\n",
    "\t\treturn True"
   ]
  },
  {
   "cell_type": "code",
   "execution_count": 2,
   "metadata": {},
   "outputs": [],
   "source": [
    "a = Set()"
   ]
  },
  {
   "cell_type": "code",
   "execution_count": 3,
   "metadata": {},
   "outputs": [],
   "source": [
    "a.add(3)"
   ]
  },
  {
   "cell_type": "code",
   "execution_count": 4,
   "metadata": {},
   "outputs": [],
   "source": [
    "a.add(5)"
   ]
  },
  {
   "cell_type": "code",
   "execution_count": 5,
   "metadata": {},
   "outputs": [
    {
     "data": {
      "text/plain": [
       "False"
      ]
     },
     "execution_count": 5,
     "metadata": {},
     "output_type": "execute_result"
    }
   ],
   "source": [
    "a.__contains__(10)"
   ]
  },
  {
   "cell_type": "code",
   "execution_count": 6,
   "metadata": {},
   "outputs": [],
   "source": [
    "from linearset import *"
   ]
  },
  {
   "cell_type": "code",
   "execution_count": 7,
   "metadata": {},
   "outputs": [],
   "source": [
    "a = Set()"
   ]
  },
  {
   "cell_type": "code",
   "execution_count": 8,
   "metadata": {},
   "outputs": [],
   "source": [
    "a.add(3)\n",
    "a.add(4)\n",
    "a.add(5)\n",
    "a.add(6)"
   ]
  },
  {
   "cell_type": "code",
   "execution_count": 9,
   "metadata": {},
   "outputs": [],
   "source": [
    "b = Set()"
   ]
  },
  {
   "cell_type": "code",
   "execution_count": 10,
   "metadata": {},
   "outputs": [],
   "source": [
    "b.add(3)\n",
    "b.add(4)\n",
    "b.add(5)\n",
    "b.add(6)\n",
    "b.add(7)"
   ]
  },
  {
   "cell_type": "code",
   "execution_count": 11,
   "metadata": {},
   "outputs": [
    {
     "data": {
      "text/plain": [
       "True"
      ]
     },
     "execution_count": 11,
     "metadata": {},
     "output_type": "execute_result"
    }
   ],
   "source": [
    "a.isSubsetOf(b)"
   ]
  },
  {
   "cell_type": "code",
   "execution_count": 12,
   "metadata": {},
   "outputs": [],
   "source": [
    "c = a.union(b)"
   ]
  },
  {
   "cell_type": "code",
   "execution_count": 13,
   "metadata": {},
   "outputs": [
    {
     "data": {
      "text/plain": [
       "True"
      ]
     },
     "execution_count": 13,
     "metadata": {},
     "output_type": "execute_result"
    }
   ],
   "source": [
    "c.__contains__(7)"
   ]
  },
  {
   "cell_type": "code",
   "execution_count": 14,
   "metadata": {},
   "outputs": [],
   "source": [
    "d = Set()\n",
    "d.add(2)\n",
    "a.add(3)\n",
    "a.add(4)\n",
    "a.add(5)\n",
    "a.add(6)"
   ]
  },
  {
   "cell_type": "code",
   "execution_count": 15,
   "metadata": {},
   "outputs": [],
   "source": [
    "d = d.difference(a)"
   ]
  },
  {
   "cell_type": "code",
   "execution_count": 16,
   "metadata": {},
   "outputs": [
    {
     "data": {
      "text/plain": [
       "False"
      ]
     },
     "execution_count": 16,
     "metadata": {},
     "output_type": "execute_result"
    }
   ],
   "source": [
    "d.__contains__(4)"
   ]
  },
  {
   "cell_type": "code",
   "execution_count": 17,
   "metadata": {},
   "outputs": [],
   "source": [
    "from bubblesort import *"
   ]
  },
  {
   "cell_type": "code",
   "execution_count": 18,
   "metadata": {},
   "outputs": [],
   "source": [
    "import numpy as np"
   ]
  },
  {
   "cell_type": "code",
   "execution_count": 19,
   "metadata": {},
   "outputs": [],
   "source": [
    "import random"
   ]
  },
  {
   "cell_type": "code",
   "execution_count": 20,
   "metadata": {},
   "outputs": [],
   "source": [
    "test = [random.randint(1, 10) for i in range(0,10)]"
   ]
  },
  {
   "cell_type": "code",
   "execution_count": 23,
   "metadata": {},
   "outputs": [
    {
     "data": {
      "text/plain": [
       "array([8, 6, 7, 2, 3, 1, 4, 9, 5, 0])"
      ]
     },
     "execution_count": 23,
     "metadata": {},
     "output_type": "execute_result"
    }
   ],
   "source": [
    "test = np.arange(0,10)\n",
    "random.shuffle(test)\n",
    "test"
   ]
  },
  {
   "cell_type": "code",
   "execution_count": 24,
   "metadata": {},
   "outputs": [
    {
     "name": "stdout",
     "output_type": "stream",
     "text": [
      "0 0 \n",
      "\n",
      "[6 8 7 2 3 1 4 9 5 0]\n",
      "0 1 \n",
      "\n",
      "[6 7 8 2 3 1 4 9 5 0]\n",
      "0 2 \n",
      "\n",
      "[6 7 2 8 3 1 4 9 5 0]\n",
      "0 3 \n",
      "\n",
      "[6 7 2 3 8 1 4 9 5 0]\n",
      "0 4 \n",
      "\n",
      "[6 7 2 3 1 8 4 9 5 0]\n",
      "0 5 \n",
      "\n",
      "[6 7 2 3 1 4 8 9 5 0]\n",
      "0 6 \n",
      "\n",
      "[6 7 2 3 1 4 8 9 5 0]\n",
      "0 7 \n",
      "\n",
      "[6 7 2 3 1 4 8 5 9 0]\n",
      "0 8 \n",
      "\n",
      "[6 7 2 3 1 4 8 5 0 9]\n",
      "1 0 \n",
      "\n",
      "[6 7 2 3 1 4 8 5 0 9]\n",
      "1 1 \n",
      "\n",
      "[6 2 7 3 1 4 8 5 0 9]\n",
      "1 2 \n",
      "\n",
      "[6 2 3 7 1 4 8 5 0 9]\n",
      "1 3 \n",
      "\n",
      "[6 2 3 1 7 4 8 5 0 9]\n",
      "1 4 \n",
      "\n",
      "[6 2 3 1 4 7 8 5 0 9]\n",
      "1 5 \n",
      "\n",
      "[6 2 3 1 4 7 8 5 0 9]\n",
      "1 6 \n",
      "\n",
      "[6 2 3 1 4 7 5 8 0 9]\n",
      "1 7 \n",
      "\n",
      "[6 2 3 1 4 7 5 0 8 9]\n",
      "2 0 \n",
      "\n",
      "[2 6 3 1 4 7 5 0 8 9]\n",
      "2 1 \n",
      "\n",
      "[2 3 6 1 4 7 5 0 8 9]\n",
      "2 2 \n",
      "\n",
      "[2 3 1 6 4 7 5 0 8 9]\n",
      "2 3 \n",
      "\n",
      "[2 3 1 4 6 7 5 0 8 9]\n",
      "2 4 \n",
      "\n",
      "[2 3 1 4 6 7 5 0 8 9]\n",
      "2 5 \n",
      "\n",
      "[2 3 1 4 6 5 7 0 8 9]\n",
      "2 6 \n",
      "\n",
      "[2 3 1 4 6 5 0 7 8 9]\n",
      "3 0 \n",
      "\n",
      "[2 3 1 4 6 5 0 7 8 9]\n",
      "3 1 \n",
      "\n",
      "[2 1 3 4 6 5 0 7 8 9]\n",
      "3 2 \n",
      "\n",
      "[2 1 3 4 6 5 0 7 8 9]\n",
      "3 3 \n",
      "\n",
      "[2 1 3 4 6 5 0 7 8 9]\n",
      "3 4 \n",
      "\n",
      "[2 1 3 4 5 6 0 7 8 9]\n",
      "3 5 \n",
      "\n",
      "[2 1 3 4 5 0 6 7 8 9]\n",
      "4 0 \n",
      "\n",
      "[1 2 3 4 5 0 6 7 8 9]\n",
      "4 1 \n",
      "\n",
      "[1 2 3 4 5 0 6 7 8 9]\n",
      "4 2 \n",
      "\n",
      "[1 2 3 4 5 0 6 7 8 9]\n",
      "4 3 \n",
      "\n",
      "[1 2 3 4 5 0 6 7 8 9]\n",
      "4 4 \n",
      "\n",
      "[1 2 3 4 0 5 6 7 8 9]\n",
      "5 0 \n",
      "\n",
      "[1 2 3 4 0 5 6 7 8 9]\n",
      "5 1 \n",
      "\n",
      "[1 2 3 4 0 5 6 7 8 9]\n",
      "5 2 \n",
      "\n",
      "[1 2 3 4 0 5 6 7 8 9]\n",
      "5 3 \n",
      "\n",
      "[1 2 3 0 4 5 6 7 8 9]\n",
      "6 0 \n",
      "\n",
      "[1 2 3 0 4 5 6 7 8 9]\n",
      "6 1 \n",
      "\n",
      "[1 2 3 0 4 5 6 7 8 9]\n",
      "6 2 \n",
      "\n",
      "[1 2 0 3 4 5 6 7 8 9]\n",
      "7 0 \n",
      "\n",
      "[1 2 0 3 4 5 6 7 8 9]\n",
      "7 1 \n",
      "\n",
      "[1 0 2 3 4 5 6 7 8 9]\n",
      "8 0 \n",
      "\n",
      "[0 1 2 3 4 5 6 7 8 9]\n"
     ]
    },
    {
     "data": {
      "text/plain": [
       "array([0, 1, 2, 3, 4, 5, 6, 7, 8, 9])"
      ]
     },
     "execution_count": 24,
     "metadata": {},
     "output_type": "execute_result"
    }
   ],
   "source": [
    "bubbleSort(test)"
   ]
  },
  {
   "cell_type": "code",
   "execution_count": null,
   "metadata": {},
   "outputs": [],
   "source": []
  }
 ],
 "metadata": {
  "kernelspec": {
   "display_name": "Python 3",
   "language": "python",
   "name": "python3"
  },
  "language_info": {
   "codemirror_mode": {
    "name": "ipython",
    "version": 3
   },
   "file_extension": ".py",
   "mimetype": "text/x-python",
   "name": "python",
   "nbconvert_exporter": "python",
   "pygments_lexer": "ipython3",
   "version": "3.6.4"
  }
 },
 "nbformat": 4,
 "nbformat_minor": 2
}
